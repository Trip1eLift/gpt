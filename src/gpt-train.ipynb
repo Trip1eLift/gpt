{
 "cells": [
  {
   "cell_type": "code",
   "execution_count": 1,
   "metadata": {},
   "outputs": [
    {
     "name": "stdout",
     "output_type": "stream",
     "text": [
      "cuda\n",
      "66\n",
      "tensor([40, 41, 42])\n",
      "abc\n"
     ]
    }
   ],
   "source": [
    "import torch\n",
    "import torch.nn as nn\n",
    "import torch.nn.functional as F\n",
    "import numpy as np\n",
    "\n",
    "device = torch.device('cuda' if torch.cuda.is_available() else 'cpu')\n",
    "#device = torch.device('cpu')\n",
    "print(device)\n",
    "\n",
    "# wget https://raw.githubusercontent.com/karpathy/char-rnn/master/data/tinyshakespeare/input.txt\n",
    "with open('data/tinyshakespeare.txt', 'r', encoding='utf-8') as f:\n",
    "    text = f.read()\n",
    "\n",
    "chars = sorted(list(set(text)))\n",
    "\n",
    "d_input = len(chars) + 1 # let 0 be padding\n",
    "print(d_input)\n",
    "\n",
    "stoi = lambda c: chars.index(c) + 1\n",
    "itos = lambda n: \"\" if n == 0 else chars[n-1]\n",
    "encode = lambda s: torch.tensor([stoi(c) for c in s], dtype=torch.long)\n",
    "decode = lambda m: ''.join([itos(i) for i in m])\n",
    "\n",
    "code = encode('abc')\n",
    "print(code)\n",
    "print(decode(code))\n",
    "\n",
    "data = encode(text)\n",
    "n_split = int(0.9 * len(data))\n",
    "train_data = data[:n_split]\n",
    "test_data = data[n_split:]\n",
    "\n",
    "def get_batch(mode, seq_len, batch_size=1):\n",
    "    source = train_data if mode == 'train' else test_data\n",
    "    starts = torch.randint(len(source) - seq_len - 1, (batch_size, ))\n",
    "    x = torch.stack([source[s:s+seq_len] for s in starts])\n",
    "    y = torch.stack([source[s+1:s+1+seq_len] for s in starts])\n",
    "    x, y = x.to(device), y.to(device)\n",
    "    return x, y\n",
    "\n",
    "eval_iters = 50 #200\n",
    "@torch.no_grad()\n",
    "def estimate_loss():\n",
    "    out = {}\n",
    "    model.eval()\n",
    "    for mode in ['train', 'eval']:\n",
    "        losses = torch.zeros(eval_iters)\n",
    "        accs = torch.zeros(eval_iters)\n",
    "        for k in range(eval_iters):\n",
    "            X, Y = get_batch(mode, max_seq_len)\n",
    "            predictions, loss = model(X, Y)\n",
    "\n",
    "            probs = F.softmax(predictions, dim=-1)\n",
    "            P = torch.multinomial(probs, num_samples=1)\n",
    "            Y = torch.flatten(Y)\n",
    "            P = torch.flatten(P)[:len(Y)]\n",
    "            acc = torch.sum(Y == P).float() / len(Y)\n",
    "\n",
    "            accs[k] = acc\n",
    "            losses[k] = loss.item()\n",
    "        out[mode] = (losses.mean(), accs.mean())\n",
    "    model.train()\n",
    "    return out"
   ]
  },
  {
   "cell_type": "code",
   "execution_count": 29,
   "metadata": {},
   "outputs": [
    {
     "name": "stdout",
     "output_type": "stream",
     "text": [
      "new model\n"
     ]
    }
   ],
   "source": [
    "import gpt\n",
    "\n",
    "max_seq_len = 200\n",
    "\n",
    "model = gpt.GPT(d_model=32, d_input=d_input, max_seq_len=max_seq_len, N=12)\n",
    "try:\n",
    "    NAME = \"gptv3\"\n",
    "    PATH = f\"models/{NAME}.pth\"\n",
    "    model.load_state_dict(torch.load(PATH))\n",
    "    print(\"loaded model\")\n",
    "except:\n",
    "    print(\"new model\")\n",
    "\n",
    "torch.cuda.empty_cache()\n",
    "model.to(device)\n",
    "\n",
    "optimizer = torch.optim.AdamW(model.parameters(), lr=1e-2)"
   ]
  },
  {
   "cell_type": "code",
   "execution_count": 31,
   "metadata": {},
   "outputs": [],
   "source": [
    "from torch.utils.tensorboard import SummaryWriter\n",
    "writer = SummaryWriter(\"runs/tinygpt\")\n",
    "\n",
    "writer.add_graph(model, get_batch('train', max_seq_len, 1))\n",
    "writer.close()"
   ]
  },
  {
   "cell_type": "code",
   "execution_count": 37,
   "metadata": {},
   "outputs": [
    {
     "ename": "OutOfMemoryError",
     "evalue": "CUDA out of memory. Tried to allocate 62.00 MiB (GPU 0; 6.00 GiB total capacity; 5.27 GiB already allocated; 0 bytes free; 5.29 GiB reserved in total by PyTorch) If reserved memory is >> allocated memory try setting max_split_size_mb to avoid fragmentation.  See documentation for Memory Management and PYTORCH_CUDA_ALLOC_CONF",
     "output_type": "error",
     "traceback": [
      "\u001b[1;31m---------------------------------------------------------------------------\u001b[0m",
      "\u001b[1;31mOutOfMemoryError\u001b[0m                          Traceback (most recent call last)",
      "Cell \u001b[1;32mIn[37], line 6\u001b[0m\n\u001b[0;32m      2\u001b[0m \u001b[39mfor\u001b[39;00m step \u001b[39min\u001b[39;00m \u001b[39mrange\u001b[39m(\u001b[39m0\u001b[39m, max_iters):\n\u001b[0;32m      4\u001b[0m     x, y \u001b[39m=\u001b[39m get_batch(\u001b[39m'\u001b[39m\u001b[39mtrain\u001b[39m\u001b[39m'\u001b[39m, max_seq_len, \u001b[39m50\u001b[39m)\n\u001b[1;32m----> 6\u001b[0m     z, loss \u001b[39m=\u001b[39m model(x, y)\n\u001b[0;32m      8\u001b[0m     optimizer\u001b[39m.\u001b[39mzero_grad(set_to_none\u001b[39m=\u001b[39m\u001b[39mTrue\u001b[39;00m)\n\u001b[0;32m      9\u001b[0m     loss\u001b[39m.\u001b[39mbackward()\n",
      "File \u001b[1;32mc:\\Users\\bansh\\anaconda3\\envs\\pytorch\\lib\\site-packages\\torch\\nn\\modules\\module.py:1194\u001b[0m, in \u001b[0;36mModule._call_impl\u001b[1;34m(self, *input, **kwargs)\u001b[0m\n\u001b[0;32m   1190\u001b[0m \u001b[39m# If we don't have any hooks, we want to skip the rest of the logic in\u001b[39;00m\n\u001b[0;32m   1191\u001b[0m \u001b[39m# this function, and just call forward.\u001b[39;00m\n\u001b[0;32m   1192\u001b[0m \u001b[39mif\u001b[39;00m \u001b[39mnot\u001b[39;00m (\u001b[39mself\u001b[39m\u001b[39m.\u001b[39m_backward_hooks \u001b[39mor\u001b[39;00m \u001b[39mself\u001b[39m\u001b[39m.\u001b[39m_forward_hooks \u001b[39mor\u001b[39;00m \u001b[39mself\u001b[39m\u001b[39m.\u001b[39m_forward_pre_hooks \u001b[39mor\u001b[39;00m _global_backward_hooks\n\u001b[0;32m   1193\u001b[0m         \u001b[39mor\u001b[39;00m _global_forward_hooks \u001b[39mor\u001b[39;00m _global_forward_pre_hooks):\n\u001b[1;32m-> 1194\u001b[0m     \u001b[39mreturn\u001b[39;00m forward_call(\u001b[39m*\u001b[39;49m\u001b[39minput\u001b[39;49m, \u001b[39m*\u001b[39;49m\u001b[39m*\u001b[39;49mkwargs)\n\u001b[0;32m   1195\u001b[0m \u001b[39m# Do not call functions when jit is used\u001b[39;00m\n\u001b[0;32m   1196\u001b[0m full_backward_hooks, non_full_backward_hooks \u001b[39m=\u001b[39m [], []\n",
      "File \u001b[1;32mc:\\Users\\bansh\\Sites\\Active_Project\\gpt\\src\\gpt.py:220\u001b[0m, in \u001b[0;36mGPT.forward\u001b[1;34m(self, x, y)\u001b[0m\n\u001b[0;32m    218\u001b[0m x \u001b[39m=\u001b[39m \u001b[39mself\u001b[39m\u001b[39m.\u001b[39mnorm(x)             \u001b[39m# 1x512x512\u001b[39;00m\n\u001b[0;32m    219\u001b[0m \u001b[39mfor\u001b[39;00m decoder \u001b[39min\u001b[39;00m \u001b[39mself\u001b[39m\u001b[39m.\u001b[39mdecoders:\n\u001b[1;32m--> 220\u001b[0m     x \u001b[39m=\u001b[39m decoder(x)           \u001b[39m# 1x512x512\u001b[39;00m\n\u001b[0;32m    222\u001b[0m x \u001b[39m=\u001b[39m \u001b[39mself\u001b[39m\u001b[39m.\u001b[39mlinear(x)           \u001b[39m# 1x512x1024\u001b[39;00m\n\u001b[0;32m    224\u001b[0m \u001b[39mif\u001b[39;00m y \u001b[39mis\u001b[39;00m \u001b[39mNone\u001b[39;00m:\n",
      "File \u001b[1;32mc:\\Users\\bansh\\anaconda3\\envs\\pytorch\\lib\\site-packages\\torch\\nn\\modules\\module.py:1194\u001b[0m, in \u001b[0;36mModule._call_impl\u001b[1;34m(self, *input, **kwargs)\u001b[0m\n\u001b[0;32m   1190\u001b[0m \u001b[39m# If we don't have any hooks, we want to skip the rest of the logic in\u001b[39;00m\n\u001b[0;32m   1191\u001b[0m \u001b[39m# this function, and just call forward.\u001b[39;00m\n\u001b[0;32m   1192\u001b[0m \u001b[39mif\u001b[39;00m \u001b[39mnot\u001b[39;00m (\u001b[39mself\u001b[39m\u001b[39m.\u001b[39m_backward_hooks \u001b[39mor\u001b[39;00m \u001b[39mself\u001b[39m\u001b[39m.\u001b[39m_forward_hooks \u001b[39mor\u001b[39;00m \u001b[39mself\u001b[39m\u001b[39m.\u001b[39m_forward_pre_hooks \u001b[39mor\u001b[39;00m _global_backward_hooks\n\u001b[0;32m   1193\u001b[0m         \u001b[39mor\u001b[39;00m _global_forward_hooks \u001b[39mor\u001b[39;00m _global_forward_pre_hooks):\n\u001b[1;32m-> 1194\u001b[0m     \u001b[39mreturn\u001b[39;00m forward_call(\u001b[39m*\u001b[39;49m\u001b[39minput\u001b[39;49m, \u001b[39m*\u001b[39;49m\u001b[39m*\u001b[39;49mkwargs)\n\u001b[0;32m   1195\u001b[0m \u001b[39m# Do not call functions when jit is used\u001b[39;00m\n\u001b[0;32m   1196\u001b[0m full_backward_hooks, non_full_backward_hooks \u001b[39m=\u001b[39m [], []\n",
      "File \u001b[1;32mc:\\Users\\bansh\\Sites\\Active_Project\\gpt\\src\\gpt.py:188\u001b[0m, in \u001b[0;36mGPTdecodeLayer.forward\u001b[1;34m(self, x)\u001b[0m\n\u001b[0;32m    186\u001b[0m \u001b[39mdef\u001b[39;00m \u001b[39mforward\u001b[39m(\u001b[39mself\u001b[39m, x):\n\u001b[0;32m    187\u001b[0m     \u001b[39m#                                                x: 1x512x512\u001b[39;00m\n\u001b[1;32m--> 188\u001b[0m     y \u001b[39m=\u001b[39m \u001b[39mself\u001b[39;49m\u001b[39m.\u001b[39;49mmultiHeadAttn(x, decoderMask\u001b[39m=\u001b[39;49m\u001b[39mTrue\u001b[39;49;00m)       \u001b[39m# 1x512x512\u001b[39;00m\n\u001b[0;32m    189\u001b[0m     y \u001b[39m=\u001b[39m x \u001b[39m+\u001b[39m y                                \u001b[39m# Residual 1x512x512\u001b[39;00m\n\u001b[0;32m    190\u001b[0m     y \u001b[39m=\u001b[39m \u001b[39mself\u001b[39m\u001b[39m.\u001b[39mnorm1(y)                                 \u001b[39m# 1x512x512\u001b[39;00m\n",
      "File \u001b[1;32mc:\\Users\\bansh\\anaconda3\\envs\\pytorch\\lib\\site-packages\\torch\\nn\\modules\\module.py:1194\u001b[0m, in \u001b[0;36mModule._call_impl\u001b[1;34m(self, *input, **kwargs)\u001b[0m\n\u001b[0;32m   1190\u001b[0m \u001b[39m# If we don't have any hooks, we want to skip the rest of the logic in\u001b[39;00m\n\u001b[0;32m   1191\u001b[0m \u001b[39m# this function, and just call forward.\u001b[39;00m\n\u001b[0;32m   1192\u001b[0m \u001b[39mif\u001b[39;00m \u001b[39mnot\u001b[39;00m (\u001b[39mself\u001b[39m\u001b[39m.\u001b[39m_backward_hooks \u001b[39mor\u001b[39;00m \u001b[39mself\u001b[39m\u001b[39m.\u001b[39m_forward_hooks \u001b[39mor\u001b[39;00m \u001b[39mself\u001b[39m\u001b[39m.\u001b[39m_forward_pre_hooks \u001b[39mor\u001b[39;00m _global_backward_hooks\n\u001b[0;32m   1193\u001b[0m         \u001b[39mor\u001b[39;00m _global_forward_hooks \u001b[39mor\u001b[39;00m _global_forward_pre_hooks):\n\u001b[1;32m-> 1194\u001b[0m     \u001b[39mreturn\u001b[39;00m forward_call(\u001b[39m*\u001b[39;49m\u001b[39minput\u001b[39;49m, \u001b[39m*\u001b[39;49m\u001b[39m*\u001b[39;49mkwargs)\n\u001b[0;32m   1195\u001b[0m \u001b[39m# Do not call functions when jit is used\u001b[39;00m\n\u001b[0;32m   1196\u001b[0m full_backward_hooks, non_full_backward_hooks \u001b[39m=\u001b[39m [], []\n",
      "File \u001b[1;32mc:\\Users\\bansh\\Sites\\Active_Project\\gpt\\src\\gpt.py:129\u001b[0m, in \u001b[0;36mMultiHeadAttention.forward\u001b[1;34m(self, x, m, decoderMask)\u001b[0m\n\u001b[0;32m    125\u001b[0m qkv \u001b[39m=\u001b[39m qkv\u001b[39m.\u001b[39mpermute(\u001b[39m0\u001b[39m, \u001b[39m2\u001b[39m, \u001b[39m1\u001b[39m, \u001b[39m3\u001b[39m)                                           \u001b[39m# 1x8x512x192 (d_batch, num_heads, seq_len, 3 x d_head)\u001b[39;00m\n\u001b[0;32m    127\u001b[0m q, k, v \u001b[39m=\u001b[39m qkv\u001b[39m.\u001b[39mchunk(\u001b[39m3\u001b[39m, dim\u001b[39m=\u001b[39m\u001b[39m-\u001b[39m\u001b[39m1\u001b[39m)                                       \u001b[39m# Q: 1x8x512x64 (d_batch, num_heads, seq_len, d_head)\u001b[39;00m\n\u001b[1;32m--> 129\u001b[0m next_v, _ \u001b[39m=\u001b[39m \u001b[39mself\u001b[39;49m\u001b[39m.\u001b[39;49mscaled_dot_product(q, k, v, decoderMask)               \u001b[39m# 1x8x512x64 (d_batch, num_heads, seq_len, d_head)\u001b[39;00m\n\u001b[0;32m    131\u001b[0m next_v \u001b[39m=\u001b[39m next_v\u001b[39m.\u001b[39mpermute(\u001b[39m0\u001b[39m, \u001b[39m2\u001b[39m, \u001b[39m1\u001b[39m, \u001b[39m3\u001b[39m)                                     \u001b[39m# 1x512x8x64 (d_batch, seq_len, num_heads, d_head)\u001b[39;00m\n\u001b[0;32m    132\u001b[0m next_v \u001b[39m=\u001b[39m next_v\u001b[39m.\u001b[39mreshape(B, \u001b[39mself\u001b[39m\u001b[39m.\u001b[39mmax_seq_len, \u001b[39mself\u001b[39m\u001b[39m.\u001b[39md_model)              \u001b[39m# 1x512x512 (d_batch, seq_len, d_model)\u001b[39;00m\n",
      "File \u001b[1;32mc:\\Users\\bansh\\Sites\\Active_Project\\gpt\\src\\gpt.py:139\u001b[0m, in \u001b[0;36mMultiHeadAttention.scaled_dot_product\u001b[1;34m(self, q, k, v, decoderMask)\u001b[0m\n\u001b[0;32m    137\u001b[0m \u001b[39mdef\u001b[39;00m \u001b[39mscaled_dot_product\u001b[39m(\u001b[39mself\u001b[39m, q, k, v, decoderMask\u001b[39m=\u001b[39m\u001b[39mFalse\u001b[39;00m):\n\u001b[0;32m    138\u001b[0m     d_q \u001b[39m=\u001b[39m q\u001b[39m.\u001b[39msize()[\u001b[39m-\u001b[39m\u001b[39m1\u001b[39m]                                             \u001b[39m# 64 (d_head)\u001b[39;00m\n\u001b[1;32m--> 139\u001b[0m     scaled \u001b[39m=\u001b[39m torch\u001b[39m.\u001b[39;49mmatmul(q, k\u001b[39m.\u001b[39;49mtranspose(\u001b[39m-\u001b[39;49m\u001b[39m1\u001b[39;49m, \u001b[39m-\u001b[39;49m\u001b[39m2\u001b[39;49m)) \u001b[39m/\u001b[39;49m math\u001b[39m.\u001b[39;49msqrt(d_q) \u001b[39m# 1x8x512x512 (d_batch, num_heads, seq_len, seq_len)\u001b[39;00m\n\u001b[0;32m    140\u001b[0m     \u001b[39m# 1x8x512x64 dot (1x8x512x64)^T = 1x8x512x64 dot 1x8x64x512 = 1x8x512x512\u001b[39;00m\n\u001b[0;32m    142\u001b[0m     \u001b[39mif\u001b[39;00m decoderMask:\n",
      "\u001b[1;31mOutOfMemoryError\u001b[0m: CUDA out of memory. Tried to allocate 62.00 MiB (GPU 0; 6.00 GiB total capacity; 5.27 GiB already allocated; 0 bytes free; 5.29 GiB reserved in total by PyTorch) If reserved memory is >> allocated memory try setting max_split_size_mb to avoid fragmentation.  See documentation for Memory Management and PYTORCH_CUDA_ALLOC_CONF"
     ]
    }
   ],
   "source": [
    "max_iters = 3000\n",
    "for step in range(0, max_iters):\n",
    "    \n",
    "    x, y = get_batch('train', max_seq_len, 200)\n",
    "\n",
    "    z, loss = model(x, y)\n",
    "\n",
    "    optimizer.zero_grad(set_to_none=True)\n",
    "    loss.backward()\n",
    "    optimizer.step()\n",
    "\n",
    "    if step % (max_iters // 20) == 0 or step == max_iters-1:\n",
    "        res = estimate_loss()\n",
    "        print(f\"step {step}: train loss {res['train'][0]:.4f}, val loss {res['eval'][0]:.4f}; train acc  {res['train'][1]:.4f}, val acc {res['eval'][1]:.4f}\")\n",
    "\n",
    "        writer.add_scalar('training loss', res['train'][0] / 100, step)\n",
    "        writer.add_scalar('validation loss', res['eval'][0] / 100, step)\n",
    "        writer.add_scalar('training acc', res['train'][1] / 100, step)\n",
    "        writer.add_scalar('validation acc', res['eval'][1] / 100, step)"
   ]
  },
  {
   "cell_type": "code",
   "execution_count": null,
   "metadata": {},
   "outputs": [],
   "source": [
    "PATH = \"models/gptv2.pth\"\n",
    "torch.save(model.state_dict(), PATH)"
   ]
  },
  {
   "cell_type": "code",
   "execution_count": 33,
   "metadata": {},
   "outputs": [
    {
     "name": "stdout",
     "output_type": "stream",
     "text": [
      "ANTIGONUS:, iE:yb:e   nt'nMhinbsug senTke o ea twna ra er \n",
      "lrdM  i?' gemu:  Ou'u h    IfterehLwhbw'nrN ebgne :neo,s!his.ho h.ilah;Hdoihst tdT:\n",
      " h,oi;stKkYba'wi\n",
      ",  dp\n",
      "c:sdqnyh\n",
      "e svt\n",
      "nwnGa sboihNre\n",
      "a hY\n",
      "Tiy papw  luelt l  hookecl   s\n",
      "dyile:rnnn iuskaolCr  eardmeiTehweDpo \n",
      " ardde\n",
      "L d wmteonI hEaC.ef, oeylsepouAe\n"
     ]
    }
   ],
   "source": [
    "context = encode(\"ANTIGONUS:\").unsqueeze(0).to(device) # add batch to 1\n",
    "\n",
    "result = model.generate(context, new_seq_len=300)[0]\n",
    "print(decode(result))"
   ]
  },
  {
   "cell_type": "code",
   "execution_count": 5,
   "metadata": {},
   "outputs": [
    {
     "name": "stdout",
     "output_type": "stream",
     "text": [
      "{'step': 1, 'train_loss': tensor(3.8489), 'val_loss': tensor(3.8613), 'train_acc': tensor(0.0247), 'val_acc': tensor(0.0240)}\n",
      "{'step': 11, 'train_loss': tensor(3.3246), 'val_loss': tensor(3.4378), 'train_acc': tensor(0.0593), 'val_acc': tensor(0.0625)}\n",
      "{'step': 21, 'train_loss': tensor(3.3432), 'val_loss': tensor(3.3629), 'train_acc': tensor(0.0525), 'val_acc': tensor(0.0550)}\n",
      "{'step': 31, 'train_loss': tensor(3.3296), 'val_loss': tensor(3.4284), 'train_acc': tensor(0.0602), 'val_acc': tensor(0.0525)}\n",
      "{'step': 41, 'train_loss': tensor(3.2969), 'val_loss': tensor(3.3991), 'train_acc': tensor(0.0567), 'val_acc': tensor(0.0525)}\n",
      "{'step': 51, 'train_loss': tensor(3.3138), 'val_loss': tensor(3.3257), 'train_acc': tensor(0.0558), 'val_acc': tensor(0.0530)}\n",
      "{'step': 61, 'train_loss': tensor(3.3438), 'val_loss': tensor(3.3062), 'train_acc': tensor(0.0562), 'val_acc': tensor(0.0550)}\n",
      "{'step': 71, 'train_loss': tensor(3.2729), 'val_loss': tensor(3.3304), 'train_acc': tensor(0.0567), 'val_acc': tensor(0.0573)}\n",
      "{'step': 81, 'train_loss': tensor(3.2977), 'val_loss': tensor(3.3470), 'train_acc': tensor(0.0492), 'val_acc': tensor(0.0577)}\n",
      "{'step': 91, 'train_loss': tensor(3.3040), 'val_loss': tensor(3.4030), 'train_acc': tensor(0.0537), 'val_acc': tensor(0.0475)}\n",
      "{'step': 101, 'train_loss': tensor(3.3002), 'val_loss': tensor(3.3185), 'train_acc': tensor(0.0620), 'val_acc': tensor(0.0597)}\n",
      "{'step': 111, 'train_loss': tensor(3.2883), 'val_loss': tensor(3.3773), 'train_acc': tensor(0.0675), 'val_acc': tensor(0.0510)}\n",
      "{'step': 121, 'train_loss': tensor(3.3249), 'val_loss': tensor(3.2820), 'train_acc': tensor(0.0542), 'val_acc': tensor(0.0585)}\n",
      "{'step': 131, 'train_loss': tensor(3.3512), 'val_loss': tensor(3.3841), 'train_acc': tensor(0.0545), 'val_acc': tensor(0.0573)}\n",
      "{'step': 141, 'train_loss': tensor(3.3323), 'val_loss': tensor(3.3089), 'train_acc': tensor(0.0550), 'val_acc': tensor(0.0523)}\n",
      "{'step': 151, 'train_loss': tensor(3.3461), 'val_loss': tensor(3.3674), 'train_acc': tensor(0.0618), 'val_acc': tensor(0.0575)}\n",
      "{'step': 161, 'train_loss': tensor(3.3069), 'val_loss': tensor(3.3263), 'train_acc': tensor(0.0528), 'val_acc': tensor(0.0605)}\n",
      "{'step': 171, 'train_loss': tensor(3.3377), 'val_loss': tensor(3.3560), 'train_acc': tensor(0.0555), 'val_acc': tensor(0.0515)}\n",
      "{'step': 181, 'train_loss': tensor(3.3116), 'val_loss': tensor(3.4239), 'train_acc': tensor(0.0558), 'val_acc': tensor(0.0503)}\n",
      "{'step': 191, 'train_loss': tensor(3.2882), 'val_loss': tensor(3.3325), 'train_acc': tensor(0.0577), 'val_acc': tensor(0.0632)}\n",
      "{'step': 201, 'train_loss': tensor(3.2995), 'val_loss': tensor(3.2928), 'train_acc': tensor(0.0585), 'val_acc': tensor(0.0568)}\n",
      "{'step': 211, 'train_loss': tensor(3.3208), 'val_loss': tensor(3.3801), 'train_acc': tensor(0.0515), 'val_acc': tensor(0.0535)}\n",
      "{'step': 221, 'train_loss': tensor(3.3002), 'val_loss': tensor(3.2981), 'train_acc': tensor(0.0570), 'val_acc': tensor(0.0555)}\n",
      "{'step': 231, 'train_loss': tensor(3.2865), 'val_loss': tensor(3.3370), 'train_acc': tensor(0.0517), 'val_acc': tensor(0.0525)}\n",
      "{'step': 241, 'train_loss': tensor(3.3898), 'val_loss': tensor(3.3755), 'train_acc': tensor(0.0562), 'val_acc': tensor(0.0600)}\n",
      "{'step': 251, 'train_loss': tensor(3.3021), 'val_loss': tensor(3.3379), 'train_acc': tensor(0.0570), 'val_acc': tensor(0.0507)}\n",
      "{'step': 261, 'train_loss': tensor(3.3649), 'val_loss': tensor(3.3498), 'train_acc': tensor(0.0573), 'val_acc': tensor(0.0597)}\n",
      "{'step': 271, 'train_loss': tensor(3.3097), 'val_loss': tensor(3.3610), 'train_acc': tensor(0.0580), 'val_acc': tensor(0.0470)}\n",
      "{'step': 281, 'train_loss': tensor(3.2914), 'val_loss': tensor(3.3551), 'train_acc': tensor(0.0618), 'val_acc': tensor(0.0550)}\n",
      "{'step': 291, 'train_loss': tensor(3.3279), 'val_loss': tensor(3.2851), 'train_acc': tensor(0.0540), 'val_acc': tensor(0.0510)}\n",
      "{'step': 301, 'train_loss': tensor(3.3017), 'val_loss': tensor(3.3430), 'train_acc': tensor(0.0567), 'val_acc': tensor(0.0512)}\n",
      "{'step': 311, 'train_loss': tensor(3.3112), 'val_loss': tensor(3.3416), 'train_acc': tensor(0.0585), 'val_acc': tensor(0.0620)}\n",
      "{'step': 321, 'train_loss': tensor(3.3014), 'val_loss': tensor(3.3967), 'train_acc': tensor(0.0632), 'val_acc': tensor(0.0525)}\n",
      "{'step': 331, 'train_loss': tensor(3.2413), 'val_loss': tensor(3.4896), 'train_acc': tensor(0.0582), 'val_acc': tensor(0.0492)}\n",
      "{'step': 341, 'train_loss': tensor(3.3702), 'val_loss': tensor(3.3737), 'train_acc': tensor(0.0452), 'val_acc': tensor(0.0610)}\n",
      "{'step': 351, 'train_loss': tensor(3.3445), 'val_loss': tensor(3.3455), 'train_acc': tensor(0.0540), 'val_acc': tensor(0.0500)}\n",
      "{'step': 361, 'train_loss': tensor(3.3244), 'val_loss': tensor(3.4383), 'train_acc': tensor(0.0562), 'val_acc': tensor(0.0548)}\n",
      "{'step': 371, 'train_loss': tensor(3.2644), 'val_loss': tensor(3.3907), 'train_acc': tensor(0.0532), 'val_acc': tensor(0.0517)}\n",
      "{'step': 381, 'train_loss': tensor(3.3295), 'val_loss': tensor(3.3702), 'train_acc': tensor(0.0595), 'val_acc': tensor(0.0548)}\n",
      "{'step': 391, 'train_loss': tensor(3.2826), 'val_loss': tensor(3.3693), 'train_acc': tensor(0.0567), 'val_acc': tensor(0.0535)}\n",
      "{'step': 401, 'train_loss': tensor(3.3537), 'val_loss': tensor(3.3056), 'train_acc': tensor(0.0560), 'val_acc': tensor(0.0577)}\n",
      "{'step': 411, 'train_loss': tensor(3.3301), 'val_loss': tensor(3.3162), 'train_acc': tensor(0.0540), 'val_acc': tensor(0.0558)}\n",
      "{'step': 421, 'train_loss': tensor(3.3063), 'val_loss': tensor(3.3318), 'train_acc': tensor(0.0550), 'val_acc': tensor(0.0530)}\n",
      "{'step': 431, 'train_loss': tensor(3.3273), 'val_loss': tensor(3.4098), 'train_acc': tensor(0.0627), 'val_acc': tensor(0.0550)}\n",
      "{'step': 441, 'train_loss': tensor(3.2816), 'val_loss': tensor(3.3018), 'train_acc': tensor(0.0580), 'val_acc': tensor(0.0535)}\n",
      "{'step': 451, 'train_loss': tensor(3.3245), 'val_loss': tensor(3.3298), 'train_acc': tensor(0.0560), 'val_acc': tensor(0.0585)}\n",
      "{'step': 461, 'train_loss': tensor(3.2730), 'val_loss': tensor(3.3251), 'train_acc': tensor(0.0507), 'val_acc': tensor(0.0558)}\n",
      "{'step': 471, 'train_loss': tensor(3.3196), 'val_loss': tensor(3.3558), 'train_acc': tensor(0.0575), 'val_acc': tensor(0.0517)}\n",
      "{'step': 481, 'train_loss': tensor(3.3008), 'val_loss': tensor(3.2717), 'train_acc': tensor(0.0573), 'val_acc': tensor(0.0580)}\n",
      "{'step': 491, 'train_loss': tensor(3.2625), 'val_loss': tensor(3.2985), 'train_acc': tensor(0.0650), 'val_acc': tensor(0.0577)}\n",
      "{'step': 501, 'train_loss': tensor(3.3557), 'val_loss': tensor(3.3910), 'train_acc': tensor(0.0520), 'val_acc': tensor(0.0565)}\n",
      "{'step': 511, 'train_loss': tensor(3.3491), 'val_loss': tensor(3.3888), 'train_acc': tensor(0.0577), 'val_acc': tensor(0.0570)}\n",
      "{'step': 521, 'train_loss': tensor(3.3367), 'val_loss': tensor(3.3469), 'train_acc': tensor(0.0503), 'val_acc': tensor(0.0515)}\n",
      "{'step': 531, 'train_loss': tensor(3.3688), 'val_loss': tensor(3.3183), 'train_acc': tensor(0.0515), 'val_acc': tensor(0.0530)}\n",
      "{'step': 541, 'train_loss': tensor(3.3706), 'val_loss': tensor(3.3214), 'train_acc': tensor(0.0562), 'val_acc': tensor(0.0625)}\n",
      "{'step': 551, 'train_loss': tensor(3.2377), 'val_loss': tensor(3.3205), 'train_acc': tensor(0.0562), 'val_acc': tensor(0.0533)}\n",
      "{'step': 561, 'train_loss': tensor(3.2748), 'val_loss': tensor(3.3206), 'train_acc': tensor(0.0562), 'val_acc': tensor(0.0457)}\n",
      "{'step': 571, 'train_loss': tensor(3.3768), 'val_loss': tensor(3.4235), 'train_acc': tensor(0.0573), 'val_acc': tensor(0.0565)}\n",
      "{'step': 581, 'train_loss': tensor(3.3153), 'val_loss': tensor(3.3230), 'train_acc': tensor(0.0527), 'val_acc': tensor(0.0565)}\n",
      "{'step': 591, 'train_loss': tensor(3.3048), 'val_loss': tensor(3.3208), 'train_acc': tensor(0.0560), 'val_acc': tensor(0.0570)}\n",
      "{'step': 600, 'train_loss': tensor(3.3175), 'val_loss': tensor(3.3488), 'train_acc': tensor(0.0607), 'val_acc': tensor(0.0575)}\n"
     ]
    }
   ],
   "source": [
    "NAME = \"gptv2\"\n",
    "checkpoints = torch.load(f\"models/checkpoints-{NAME}.pth\")\n",
    "for i in range(len(checkpoints)):\n",
    "    print(checkpoints[i])"
   ]
  }
 ],
 "metadata": {
  "kernelspec": {
   "display_name": "pytorch",
   "language": "python",
   "name": "python3"
  },
  "language_info": {
   "codemirror_mode": {
    "name": "ipython",
    "version": 3
   },
   "file_extension": ".py",
   "mimetype": "text/x-python",
   "name": "python",
   "nbconvert_exporter": "python",
   "pygments_lexer": "ipython3",
   "version": "3.8.16"
  },
  "orig_nbformat": 4
 },
 "nbformat": 4,
 "nbformat_minor": 2
}
