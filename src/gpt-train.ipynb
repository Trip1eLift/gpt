{
 "cells": [
  {
   "cell_type": "code",
   "execution_count": 28,
   "metadata": {},
   "outputs": [
    {
     "name": "stdout",
     "output_type": "stream",
     "text": [
      "cuda\n",
      "66\n",
      "tensor([40, 41, 42])\n",
      "abc\n"
     ]
    }
   ],
   "source": [
    "import torch\n",
    "import torch.nn as nn\n",
    "import torch.nn.functional as F\n",
    "import numpy as np\n",
    "\n",
    "device = torch.device('cuda' if torch.cuda.is_available() else 'cpu')\n",
    "#device = torch.device('cpu')\n",
    "print(device)\n",
    "\n",
    "# wget https://raw.githubusercontent.com/karpathy/char-rnn/master/data/tinyshakespeare/input.txt\n",
    "with open('data/tinyshakespeare.txt', 'r', encoding='utf-8') as f:\n",
    "    text = f.read()\n",
    "\n",
    "chars = sorted(list(set(text)))\n",
    "\n",
    "d_input = len(chars) + 1 # let 0 be padding\n",
    "print(d_input)\n",
    "\n",
    "stoi = lambda c: chars.index(c) + 1\n",
    "itos = lambda n: \"\" if n == 0 else chars[n-1]\n",
    "encode = lambda s: torch.tensor([stoi(c) for c in s], dtype=torch.long)\n",
    "decode = lambda m: ''.join([itos(i) for i in m])\n",
    "\n",
    "code = encode('abc')\n",
    "print(code)\n",
    "print(decode(code))\n",
    "\n",
    "data = encode(text)\n",
    "n_split = int(0.9 * len(data))\n",
    "train_data = data[:n_split]\n",
    "test_data = data[n_split:]\n",
    "\n",
    "def get_batch(mode, seq_len, batch_size=1):\n",
    "    source = train_data if mode == 'train' else test_data\n",
    "    starts = torch.randint(len(source) - seq_len - 1, (batch_size, ))\n",
    "    x = torch.stack([source[s:s+seq_len] for s in starts])\n",
    "    y = torch.stack([source[s+1:s+1+seq_len] for s in starts])\n",
    "    x, y = x.to(device), y.to(device)\n",
    "    return x, y\n",
    "\n",
    "eval_iters = 50 #200\n",
    "@torch.no_grad()\n",
    "def estimate_loss():\n",
    "    out = {}\n",
    "    model.eval()\n",
    "    for mode in ['train', 'eval']:\n",
    "        losses = torch.zeros(eval_iters)\n",
    "        accs = torch.zeros(eval_iters)\n",
    "        for k in range(eval_iters):\n",
    "            X, Y = get_batch(mode, 10)\n",
    "            predictions, loss = model(X, Y)\n",
    "\n",
    "            probs = F.softmax(predictions, dim=-1)\n",
    "            P = torch.multinomial(probs, num_samples=1)\n",
    "            Y = torch.flatten(Y)\n",
    "            P = torch.flatten(P)[:len(Y)]\n",
    "            acc = torch.sum(Y == P).float() / len(Y)\n",
    "\n",
    "            accs[k] = acc\n",
    "            losses[k] = loss.item()\n",
    "        out[mode] = (losses.mean(), accs.mean())\n",
    "    model.train()\n",
    "    return out"
   ]
  },
  {
   "cell_type": "code",
   "execution_count": 29,
   "metadata": {},
   "outputs": [
    {
     "name": "stdout",
     "output_type": "stream",
     "text": [
      "new model\n"
     ]
    }
   ],
   "source": [
    "import gpt\n",
    "\n",
    "max_seq_len = 200\n",
    "\n",
    "model = gpt.GPT(d_model=32, d_input=d_input, max_seq_len=max_seq_len, N=12)\n",
    "try:\n",
    "    PATH = \"models/gptv2.pth\"\n",
    "    model.load_state_dict(torch.load(PATH))\n",
    "    print(\"loaded model\")\n",
    "except:\n",
    "    print(\"new model\")\n",
    "\n",
    "torch.cuda.empty_cache()\n",
    "model.to(device)\n",
    "\n",
    "optimizer = torch.optim.AdamW(model.parameters(), lr=1e-2)"
   ]
  },
  {
   "cell_type": "code",
   "execution_count": 31,
   "metadata": {},
   "outputs": [],
   "source": [
    "from torch.utils.tensorboard import SummaryWriter\n",
    "writer = SummaryWriter(\"runs/tinygpt\")\n",
    "\n",
    "writer.add_graph(model, get_batch('train', max_seq_len, 1))\n",
    "writer.close()"
   ]
  },
  {
   "cell_type": "code",
   "execution_count": 32,
   "metadata": {},
   "outputs": [
    {
     "name": "stdout",
     "output_type": "stream",
     "text": [
      "step 0: train loss 4.1431, val loss 4.1402; train acc  0.0200, val acc 0.0300\n",
      "step 3: train loss 4.8206, val loss 4.8340; train acc  0.0340, val acc 0.0380\n",
      "step 6: train loss 5.6834, val loss 5.6852; train acc  0.0420, val acc 0.0460\n",
      "step 9: train loss 6.4492, val loss 6.4579; train acc  0.0660, val acc 0.0660\n",
      "step 12: train loss 6.9940, val loss 6.9906; train acc  0.0700, val acc 0.0480\n",
      "step 15: train loss 7.3615, val loss 7.3556; train acc  0.0860, val acc 0.0480\n",
      "step 18: train loss 7.6338, val loss 7.6330; train acc  0.0500, val acc 0.0580\n",
      "step 21: train loss 7.8728, val loss 7.8732; train acc  0.0800, val acc 0.0500\n",
      "step 24: train loss 8.0369, val loss 8.0345; train acc  0.0500, val acc 0.0460\n",
      "step 27: train loss 8.2158, val loss 8.2200; train acc  0.0480, val acc 0.0600\n",
      "step 29: train loss 8.3153, val loss 8.3128; train acc  0.0500, val acc 0.0660\n"
     ]
    }
   ],
   "source": [
    "max_iters = 30\n",
    "for step in range(0, max_iters):\n",
    "    \n",
    "    x, y = get_batch('train', max_seq_len, 50)\n",
    "\n",
    "    z, loss = model(x, y)\n",
    "\n",
    "    optimizer.zero_grad(set_to_none=True)\n",
    "    loss.backward()\n",
    "    optimizer.step()\n",
    "\n",
    "    if step % (max_iters // 10) == 0 or step == max_iters-1:\n",
    "        res = estimate_loss()\n",
    "        print(f\"step {step}: train loss {res['train'][0]:.4f}, val loss {res['eval'][0]:.4f}; train acc  {res['train'][1]:.4f}, val acc {res['eval'][1]:.4f}\")\n",
    "\n",
    "        writer.add_scalar('training loss', res['train'][0] / 100, step)\n",
    "        writer.add_scalar('validation loss', res['eval'][0] / 100, step)\n",
    "        writer.add_scalar('training acc', res['train'][1] / 100, step)\n",
    "        writer.add_scalar('validation acc', res['eval'][1] / 100, step)"
   ]
  },
  {
   "cell_type": "code",
   "execution_count": null,
   "metadata": {},
   "outputs": [],
   "source": [
    "PATH = \"models/gptv2.pth\"\n",
    "torch.save(model.state_dict(), PATH)"
   ]
  },
  {
   "cell_type": "code",
   "execution_count": 33,
   "metadata": {},
   "outputs": [
    {
     "name": "stdout",
     "output_type": "stream",
     "text": [
      "ANTIGONUS:, iE:yb:e   nt'nMhinbsug senTke o ea twna ra er \n",
      "lrdM  i?' gemu:  Ou'u h    IfterehLwhbw'nrN ebgne :neo,s!his.ho h.ilah;Hdoihst tdT:\n",
      " h,oi;stKkYba'wi\n",
      ",  dp\n",
      "c:sdqnyh\n",
      "e svt\n",
      "nwnGa sboihNre\n",
      "a hY\n",
      "Tiy papw  luelt l  hookecl   s\n",
      "dyile:rnnn iuskaolCr  eardmeiTehweDpo \n",
      " ardde\n",
      "L d wmteonI hEaC.ef, oeylsepouAe\n"
     ]
    }
   ],
   "source": [
    "context = encode(\"ANTIGONUS:\").unsqueeze(0).to(device) # add batch to 1\n",
    "\n",
    "result = model.generate(context, new_seq_len=300)[0]\n",
    "print(decode(result))"
   ]
  },
  {
   "cell_type": "code",
   "execution_count": null,
   "metadata": {},
   "outputs": [
    {
     "name": "stdout",
     "output_type": "stream",
     "text": [
      "torch.Size([2, 7])\n"
     ]
    }
   ],
   "source": [
    "x = torch.randn(2, 4)\n",
    "y = torch.zeros(1, 5)\n",
    "\n",
    "print(F.pad(input=x, pad=(0, 3, 0, 0), mode='constant', value=0).shape)"
   ]
  }
 ],
 "metadata": {
  "kernelspec": {
   "display_name": "pytorch",
   "language": "python",
   "name": "python3"
  },
  "language_info": {
   "codemirror_mode": {
    "name": "ipython",
    "version": 3
   },
   "file_extension": ".py",
   "mimetype": "text/x-python",
   "name": "python",
   "nbconvert_exporter": "python",
   "pygments_lexer": "ipython3",
   "version": "3.8.16"
  },
  "orig_nbformat": 4
 },
 "nbformat": 4,
 "nbformat_minor": 2
}
